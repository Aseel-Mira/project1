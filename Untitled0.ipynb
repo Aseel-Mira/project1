{
  "nbformat": 4,
  "nbformat_minor": 0,
  "metadata": {
    "colab": {
      "provenance": [],
      "toc_visible": true,
      "authorship_tag": "ABX9TyNIKAtQU7PqRChICvSEnch5",
      "include_colab_link": true
    },
    "kernelspec": {
      "name": "python3",
      "display_name": "Python 3"
    },
    "language_info": {
      "name": "python"
    }
  },
  "cells": [
    {
      "cell_type": "markdown",
      "metadata": {
        "id": "view-in-github",
        "colab_type": "text"
      },
      "source": [
        "<a href=\"https://colab.research.google.com/github/Aseel-Mira/project1/blob/main/Untitled0.ipynb\" target=\"_parent\"><img src=\"https://colab.research.google.com/assets/colab-badge.svg\" alt=\"Open In Colab\"/></a>"
      ]
    },
    {
      "cell_type": "markdown",
      "source": [
        "# Data types"
      ],
      "metadata": {
        "id": "hxDnXkzzNJ-6"
      }
    },
    {
      "cell_type": "markdown",
      "source": [
        "1- String (str): \n",
        "\n",
        "It's what you write inside the quotation mark: ' ' or  \" \"."
      ],
      "metadata": {
        "id": "HeEqB3a2O4rc"
      }
    },
    {
      "cell_type": "code",
      "execution_count": null,
      "metadata": {
        "id": "de0vkxoGcSy0",
        "colab": {
          "base_uri": "https://localhost:8080/"
        },
        "outputId": "91637427-b8c8-4026-e731-ba723b99a2ce"
      },
      "outputs": [
        {
          "output_type": "stream",
          "name": "stdout",
          "text": [
            "<class 'str'>\n",
            "<class 'str'>\n"
          ]
        }
      ],
      "source": [
        "name = 'asil'\n",
        "print(type(name))\n",
        "\n",
        "age = \"28\"\n",
        "print(type(age))"
      ]
    },
    {
      "cell_type": "markdown",
      "source": [
        "2- Integer (int):\n",
        "\n",
        "They are numbers without a comma, either it was positive or negative.\n"
      ],
      "metadata": {
        "id": "YqNSMlNaUPlS"
      }
    },
    {
      "cell_type": "code",
      "source": [
        "number1 = 28\n",
        "print(type(number1))\n",
        "\n",
        "number2 = -10\n",
        "print(type(number2))"
      ],
      "metadata": {
        "colab": {
          "base_uri": "https://localhost:8080/"
        },
        "id": "d8fOpsx6Ox7e",
        "outputId": "d455fd53-6f43-4752-a5df-137b83a5bee1"
      },
      "execution_count": null,
      "outputs": [
        {
          "output_type": "stream",
          "name": "stdout",
          "text": [
            "<class 'int'>\n",
            "<class 'int'>\n"
          ]
        }
      ]
    },
    {
      "cell_type": "markdown",
      "source": [
        "3- Floats (float):\n",
        "\n",
        "They are numbers with a comma (,)."
      ],
      "metadata": {
        "id": "UVQvT6wzZkIy"
      }
    },
    {
      "cell_type": "code",
      "source": [
        "number1 = 176.5\n",
        "print(type(number1))\n",
        "\n",
        "number2 = -100.2\n",
        "print(type(number2))"
      ],
      "metadata": {
        "id": "5nzDSt3x3cqz",
        "colab": {
          "base_uri": "https://localhost:8080/"
        },
        "outputId": "d317d49d-c259-4f49-fe28-c8163d1cec23"
      },
      "execution_count": null,
      "outputs": [
        {
          "output_type": "stream",
          "name": "stdout",
          "text": [
            "<class 'float'>\n",
            "<class 'float'>\n"
          ]
        }
      ]
    },
    {
      "cell_type": "markdown",
      "source": [
        "4- List (list):\n",
        "\n",
        "You can write more than one value inside the square brackets [..]."
      ],
      "metadata": {
        "id": "bBT6oJzl5S0N"
      }
    },
    {
      "cell_type": "code",
      "source": [
        "age = [1,2,3,4]\n",
        "print(type(age))"
      ],
      "metadata": {
        "colab": {
          "base_uri": "https://localhost:8080/"
        },
        "id": "Yw7XzZz_5z6D",
        "outputId": "d646e0e7-fce7-4d11-9a26-ac5b96792f01"
      },
      "execution_count": null,
      "outputs": [
        {
          "output_type": "stream",
          "name": "stdout",
          "text": [
            "<class 'list'>\n"
          ]
        }
      ]
    },
    {
      "cell_type": "markdown",
      "source": [
        "5- Tuple (tuple):\n",
        "\n",
        "You can write more than one value but inside parentheses (..)."
      ],
      "metadata": {
        "id": "44f4tEqA82iQ"
      }
    },
    {
      "cell_type": "code",
      "source": [
        "age = (1,2,3,4)\n",
        "print(type(age))"
      ],
      "metadata": {
        "colab": {
          "base_uri": "https://localhost:8080/"
        },
        "id": "19zEI0xk9bk6",
        "outputId": "65db5c24-587c-4c23-b127-6bbdfaaa0514"
      },
      "execution_count": null,
      "outputs": [
        {
          "output_type": "stream",
          "name": "stdout",
          "text": [
            "<class 'tuple'>\n"
          ]
        }
      ]
    },
    {
      "cell_type": "markdown",
      "source": [
        "6- Dictionary (dict):\n",
        "\n",
        "It's about writing more than one value but inside the curly brackets {..}, and each value with it's definition."
      ],
      "metadata": {
        "id": "fpcGrUHg9k43"
      }
    },
    {
      "cell_type": "code",
      "source": [
        "clients = {\"Ahmed\" : 1, \"Mohannad\" : 2}\n",
        "print(clients)\n",
        "print(type(clients))"
      ],
      "metadata": {
        "colab": {
          "base_uri": "https://localhost:8080/"
        },
        "id": "-PIB_i-Z_cnh",
        "outputId": "e91b1e17-4c19-4652-9676-ea1728d7f43d"
      },
      "execution_count": null,
      "outputs": [
        {
          "output_type": "stream",
          "name": "stdout",
          "text": [
            "{'Ahmed': 1, 'Mohannad': 2}\n",
            "<class 'dict'>\n"
          ]
        }
      ]
    },
    {
      "cell_type": "markdown",
      "source": [
        "7- Boolean (bool):\n",
        "Boolean statements it's true or false."
      ],
      "metadata": {
        "id": "omhXWBhzBMrA"
      }
    },
    {
      "cell_type": "code",
      "source": [
        "False\n",
        "print(type(False))\n",
        "\n",
        "True\n",
        "print(type(True))"
      ],
      "metadata": {
        "colab": {
          "base_uri": "https://localhost:8080/"
        },
        "id": "Q2L6DkN7B347",
        "outputId": "40dd40a8-7929-4b2e-99fb-db9b983694a5"
      },
      "execution_count": null,
      "outputs": [
        {
          "output_type": "stream",
          "name": "stdout",
          "text": [
            "<class 'bool'>\n",
            "<class 'bool'>\n"
          ]
        }
      ]
    },
    {
      "cell_type": "markdown",
      "source": [
        "# Expressions"
      ],
      "metadata": {
        "id": "sPnx_N0KFDbC"
      }
    },
    {
      "cell_type": "markdown",
      "source": [
        "1- Addition (+):\n",
        "\n",
        "An operation in which you add two or more numbers."
      ],
      "metadata": {
        "id": "WWEF69bMHQq9"
      }
    },
    {
      "cell_type": "code",
      "source": [
        "a = 5+3\n",
        "print(a)"
      ],
      "metadata": {
        "colab": {
          "base_uri": "https://localhost:8080/"
        },
        "id": "Wn4anAb0Mt9x",
        "outputId": "d51be82c-2a9c-4561-a157-c3069a2770f3"
      },
      "execution_count": null,
      "outputs": [
        {
          "output_type": "stream",
          "name": "stdout",
          "text": [
            "8\n"
          ]
        }
      ]
    },
    {
      "cell_type": "markdown",
      "source": [
        "2- Subtraction (-):\n",
        "\n",
        "An operation in which you subtract two or more numbers."
      ],
      "metadata": {
        "id": "zgtxgJozM3C7"
      }
    },
    {
      "cell_type": "code",
      "source": [
        "b = 5-3\n",
        "print(b)"
      ],
      "metadata": {
        "colab": {
          "base_uri": "https://localhost:8080/"
        },
        "id": "2nXk6XoCNl7c",
        "outputId": "1c1d03c4-66ec-4d16-d7e8-39c31e0645fd"
      },
      "execution_count": null,
      "outputs": [
        {
          "output_type": "stream",
          "name": "stdout",
          "text": [
            "2\n"
          ]
        }
      ]
    },
    {
      "cell_type": "markdown",
      "source": [
        "3- Multiplication (*):\n",
        "\n",
        "An operation in which you subtract two or more numbers."
      ],
      "metadata": {
        "id": "1tPrVkB0NtyB"
      }
    },
    {
      "cell_type": "code",
      "source": [
        "c = 5*5\n",
        "print(c)"
      ],
      "metadata": {
        "id": "vs5Lv6n3P25y",
        "colab": {
          "base_uri": "https://localhost:8080/"
        },
        "outputId": "2169877f-74f4-4cd8-a4a3-f04d1ba6fc66"
      },
      "execution_count": 1,
      "outputs": [
        {
          "output_type": "stream",
          "name": "stdout",
          "text": [
            "25\n"
          ]
        }
      ]
    },
    {
      "cell_type": "markdown",
      "source": [
        "4- Division process (/):\n",
        "\n",
        "An operation that divides two or more numbers."
      ],
      "metadata": {
        "id": "M4Rh8YIkIyLy"
      }
    },
    {
      "cell_type": "code",
      "source": [
        "g = 100/5\n",
        "print(g)"
      ],
      "metadata": {
        "colab": {
          "base_uri": "https://localhost:8080/"
        },
        "id": "K1YT8U4FJUjz",
        "outputId": "20318c46-2e28-43ab-9bf5-028e408e7db0"
      },
      "execution_count": 2,
      "outputs": [
        {
          "output_type": "stream",
          "name": "stdout",
          "text": [
            "20.0\n"
          ]
        }
      ]
    },
    {
      "cell_type": "markdown",
      "source": [
        "5- The largest number to divide (//):"
      ],
      "metadata": {
        "id": "kMqaK9lZKLER"
      }
    },
    {
      "cell_type": "code",
      "source": [
        "a = 50//4\n",
        "print(a)"
      ],
      "metadata": {
        "colab": {
          "base_uri": "https://localhost:8080/"
        },
        "id": "bjJxWlQrOigF",
        "outputId": "81f9e4ff-d7a8-4328-f1e6-6422963c7cd2"
      },
      "execution_count": null,
      "outputs": [
        {
          "output_type": "stream",
          "name": "stdout",
          "text": [
            "12\n"
          ]
        }
      ]
    }
  ]
}