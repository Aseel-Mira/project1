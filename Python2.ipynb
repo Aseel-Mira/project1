{
  "nbformat": 4,
  "nbformat_minor": 0,
  "metadata": {
    "colab": {
      "provenance": [],
      "toc_visible": true,
      "collapsed_sections": [
        "Ksgg7yMUPgpq",
        "Rb7JMA7Wvk8f",
        "K19h4fbc1eN3"
      ],
      "authorship_tag": "ABX9TyO6gHZ1smRSnVCTE0uTkRo2"
    },
    "kernelspec": {
      "name": "python3",
      "display_name": "Python 3"
    },
    "language_info": {
      "name": "python"
    }
  },
  "cells": [
    {
      "cell_type": "markdown",
      "source": [
        "# Sets"
      ],
      "metadata": {
        "id": "Ksgg7yMUPgpq"
      }
    },
    {
      "cell_type": "markdown",
      "source": [
        "- Data type.\n",
        "- No duplicated values.\n",
        "- unordered, unindexed, unchangeable."
      ],
      "metadata": {
        "id": "41bMza4aS-XQ"
      }
    },
    {
      "cell_type": "code",
      "source": [
        "s = {1,2,1,1,1,1,3,5,7,9,9,9,9,9}\n",
        "print(type(s))\n",
        "print(s)\n",
        "s.append(5)"
      ],
      "metadata": {
        "colab": {
          "base_uri": "https://localhost:8080/",
          "height": 237
        },
        "id": "SWXZMSRCTfzd",
        "outputId": "1d5ae529-44c6-4f8f-928d-c95619c0602b"
      },
      "execution_count": null,
      "outputs": [
        {
          "output_type": "stream",
          "name": "stdout",
          "text": [
            "<class 'set'>\n",
            "{1, 2, 3, 5, 7, 9}\n"
          ]
        },
        {
          "output_type": "error",
          "ename": "AttributeError",
          "evalue": "ignored",
          "traceback": [
            "\u001b[0;31m---------------------------------------------------------------------------\u001b[0m",
            "\u001b[0;31mAttributeError\u001b[0m                            Traceback (most recent call last)",
            "\u001b[0;32m<ipython-input-5-41f8f7abdb9c>\u001b[0m in \u001b[0;36m<cell line: 4>\u001b[0;34m()\u001b[0m\n\u001b[1;32m      2\u001b[0m \u001b[0mprint\u001b[0m\u001b[0;34m(\u001b[0m\u001b[0mtype\u001b[0m\u001b[0;34m(\u001b[0m\u001b[0ms\u001b[0m\u001b[0;34m)\u001b[0m\u001b[0;34m)\u001b[0m\u001b[0;34m\u001b[0m\u001b[0;34m\u001b[0m\u001b[0m\n\u001b[1;32m      3\u001b[0m \u001b[0mprint\u001b[0m\u001b[0;34m(\u001b[0m\u001b[0ms\u001b[0m\u001b[0;34m)\u001b[0m\u001b[0;34m\u001b[0m\u001b[0;34m\u001b[0m\u001b[0m\n\u001b[0;32m----> 4\u001b[0;31m \u001b[0ms\u001b[0m\u001b[0;34m.\u001b[0m\u001b[0mappend\u001b[0m\u001b[0;34m(\u001b[0m\u001b[0;36m5\u001b[0m\u001b[0;34m)\u001b[0m\u001b[0;34m\u001b[0m\u001b[0;34m\u001b[0m\u001b[0m\n\u001b[0m",
            "\u001b[0;31mAttributeError\u001b[0m: 'set' object has no attribute 'append'"
          ]
        }
      ]
    },
    {
      "cell_type": "markdown",
      "source": [
        "# Condition and branching"
      ],
      "metadata": {
        "id": "Vjb_yNrNUyXi"
      }
    },
    {
      "cell_type": "markdown",
      "source": [
        "1- If statement:\n",
        "\n",
        "- It binds an order or group of commands to a condition.\n",
        "\n",
        "- These if commands executed only when the condition is met, meaning they returns us with the value True."
      ],
      "metadata": {
        "id": "c6P8MlHPThIT"
      }
    },
    {
      "cell_type": "code",
      "source": [
        "age = 20\n",
        "\n",
        "if age >= 18:\n",
        "  print('You Are An Adult')"
      ],
      "metadata": {
        "colab": {
          "base_uri": "https://localhost:8080/"
        },
        "id": "ZyJ4y2EHmxdQ",
        "outputId": "4ec64557-2ed3-4e16-c92b-3d7576c2bb0e"
      },
      "execution_count": null,
      "outputs": [
        {
          "output_type": "stream",
          "name": "stdout",
          "text": [
            "You Are An Adult\n"
          ]
        }
      ]
    },
    {
      "cell_type": "markdown",
      "source": [
        "2- Else:\n",
        "\n",
        "- Executing a specific order if the condition is not met. \n",
        "- It can only be used once in a conditional sentence."
      ],
      "metadata": {
        "id": "d3jaQ_BxoXeg"
      }
    },
    {
      "cell_type": "code",
      "source": [
        "age = 16 \n",
        "\n",
        "if age >= 18:\n",
        "  print('You Are An Adult')\n",
        "else:\n",
        "    print('You Are NOT An Adult')"
      ],
      "metadata": {
        "colab": {
          "base_uri": "https://localhost:8080/"
        },
        "id": "zZa7CrmOpqDI",
        "outputId": "d21e4716-744f-45b0-e055-eee8e024064a"
      },
      "execution_count": null,
      "outputs": [
        {
          "output_type": "stream",
          "name": "stdout",
          "text": [
            "You Are NOT An Adult\n"
          ]
        }
      ]
    },
    {
      "cell_type": "markdown",
      "source": [
        "3- Elif:\n",
        "\n",
        "- Adding more than one option in the conditional sentence.\n",
        "- There is no specific number to use in a conditional sentence."
      ],
      "metadata": {
        "id": "tDnm02DRrR8G"
      }
    },
    {
      "cell_type": "code",
      "source": [
        "path = 'ios'\n",
        "\n",
        "if path == 'Web Development':\n",
        "  print('JavaScript')\n",
        "\n",
        "elif path == 'ios':\n",
        "  print('Swift')\n",
        "\n",
        "elif path == 'Android':\n",
        "  print('Kotlin')\n",
        "  \n",
        "else:\n",
        "  print('Something else')"
      ],
      "metadata": {
        "colab": {
          "base_uri": "https://localhost:8080/"
        },
        "id": "ORqBrEANtC72",
        "outputId": "ca16a2e6-dc6b-4140-f7bf-a3ab3d6d8f42"
      },
      "execution_count": null,
      "outputs": [
        {
          "output_type": "stream",
          "name": "stdout",
          "text": [
            "Swift\n"
          ]
        }
      ]
    },
    {
      "cell_type": "markdown",
      "source": [
        "# Loops\n",
        "\n",
        "It is the repetition of a command or a group of code commands under a certain number of times."
      ],
      "metadata": {
        "id": "Rb7JMA7Wvk8f"
      }
    },
    {
      "cell_type": "markdown",
      "source": [
        "1- While loop:"
      ],
      "metadata": {
        "id": "q_NVujewvxMi"
      }
    },
    {
      "cell_type": "code",
      "source": [
        "b = 1 \n",
        "\n",
        "while b <= 5:\n",
        "  print(b)\n",
        "  b += 1"
      ],
      "metadata": {
        "colab": {
          "base_uri": "https://localhost:8080/"
        },
        "id": "LzCG_sr9wjYb",
        "outputId": "463a5458-0957-420c-b915-62ce8ee4bfee"
      },
      "execution_count": null,
      "outputs": [
        {
          "output_type": "stream",
          "name": "stdout",
          "text": [
            "1\n",
            "2\n",
            "3\n",
            "4\n",
            "5\n"
          ]
        }
      ]
    },
    {
      "cell_type": "markdown",
      "source": [
        "2- For loop:"
      ],
      "metadata": {
        "id": "2hHhBVP5yIkx"
      }
    },
    {
      "cell_type": "code",
      "source": [
        "students = ['mohannad','mohammad','ahmed','omar']\n",
        "\n",
        "for s in students:\n",
        "  print(s)"
      ],
      "metadata": {
        "colab": {
          "base_uri": "https://localhost:8080/"
        },
        "id": "GP7lLnr5yVBj",
        "outputId": "2afce5f1-567d-43aa-b833-f50314d95cba"
      },
      "execution_count": null,
      "outputs": [
        {
          "output_type": "stream",
          "name": "stdout",
          "text": [
            "mohannad\n",
            "mohammad\n",
            "ahmed\n",
            "omar\n"
          ]
        }
      ]
    },
    {
      "cell_type": "markdown",
      "source": [
        "3- For in range loop:"
      ],
      "metadata": {
        "id": "2vWHjUmTzvbl"
      }
    },
    {
      "cell_type": "code",
      "source": [
        "for n in range(1,6):\n",
        "  print(n)"
      ],
      "metadata": {
        "colab": {
          "base_uri": "https://localhost:8080/"
        },
        "id": "EeGra9Du0GR8",
        "outputId": "9598aad4-8dc3-4cfb-cee2-367302ead9e9"
      },
      "execution_count": null,
      "outputs": [
        {
          "output_type": "stream",
          "name": "stdout",
          "text": [
            "1\n",
            "2\n",
            "3\n",
            "4\n",
            "5\n"
          ]
        }
      ]
    },
    {
      "cell_type": "markdown",
      "source": [
        "# Functions\n",
        "\n",
        "- They are programmatic commands that are only executed when the function is called.\n",
        "\n",
        "- The function can be called more than once.\n",
        "\n",
        "- Modifying the function definition will affect all calls.\n",
        "\n",
        "- The function takes input and replaces the value of the input when the function is called."
      ],
      "metadata": {
        "id": "K19h4fbc1eN3"
      }
    },
    {
      "cell_type": "code",
      "source": [
        "def print_message():\n",
        "  print('Welcome To Python')\n",
        "\n",
        "print_message()"
      ],
      "metadata": {
        "colab": {
          "base_uri": "https://localhost:8080/"
        },
        "id": "u08vwT1M5Atn",
        "outputId": "12aa5481-c572-47c5-873d-d713b0b39f26"
      },
      "execution_count": null,
      "outputs": [
        {
          "output_type": "stream",
          "name": "stdout",
          "text": [
            "Welcome To Python\n"
          ]
        }
      ]
    },
    {
      "cell_type": "markdown",
      "source": [
        "# Exceptions Handling"
      ],
      "metadata": {
        "id": "H1-29ebZd_GF"
      }
    },
    {
      "cell_type": "markdown",
      "source": [
        "1- Try: \n",
        "\n",
        "Test the code for errors."
      ],
      "metadata": {
        "id": "oXUX51tce_l4"
      }
    },
    {
      "cell_type": "markdown",
      "source": [
        "2- Except:\n",
        "\n",
        "Handle the errors if it's found."
      ],
      "metadata": {
        "id": "6C5H5vxPsYmx"
      }
    },
    {
      "cell_type": "markdown",
      "source": [
        "3- else:\n",
        "\n",
        "If theres no errors. "
      ],
      "metadata": {
        "id": "6LhvWUgNtaP5"
      }
    },
    {
      "cell_type": "markdown",
      "source": [
        "4- Finally:\n",
        "\n",
        "Run the code whatever happens."
      ],
      "metadata": {
        "id": "TeeevEVovQ7M"
      }
    },
    {
      "cell_type": "code",
      "source": [
        "try:\n",
        "  number = int(input('Write Your Age: '))\n",
        " \n",
        "except:\n",
        "  print('Bad, This is Not Integer')\n",
        "\n",
        "else:\n",
        "  print('good, this is Integer')\n",
        "\n",
        "finally:\n",
        "  print('Thank You')"
      ],
      "metadata": {
        "colab": {
          "base_uri": "https://localhost:8080/"
        },
        "id": "7iHODUj-sRum",
        "outputId": "7ba6dae5-c0f0-4042-dad5-e590289b3e03"
      },
      "execution_count": 12,
      "outputs": [
        {
          "output_type": "stream",
          "name": "stdout",
          "text": [
            "Write Your Age: 21\n",
            "good, this is Integer\n",
            "Thank You\n"
          ]
        }
      ]
    },
    {
      "cell_type": "markdown",
      "source": [
        "# Objects and Classes "
      ],
      "metadata": {
        "id": "_eAh5YMSxdaG"
      }
    },
    {
      "cell_type": "markdown",
      "source": [
        "1- Classes:\n",
        "\n",
        "Is a user-defined datatype that has its own data members and member function."
      ],
      "metadata": {
        "id": "ywTLIwvgxuPF"
      }
    },
    {
      "cell_type": "markdown",
      "source": [
        "2- Objects:\n",
        "\n",
        "An object is an instance of a class."
      ],
      "metadata": {
        "id": "tDwBRpKh4vge"
      }
    },
    {
      "cell_type": "code",
      "source": [
        "class Employee:\n",
        "  def __init__(self, name, age, department, is_manager):\n",
        "    self.name = name\n",
        "    self.age = age\n",
        "    self.department = department\n",
        "    self.is_manager = is_manager\n",
        "\n",
        "\n",
        "from Employee import Employee\n",
        "Employee1 = Employee('ahmed', 26, 'it', True)\n",
        "Employee2 = Employee('mohammed', 23, 'it', False)\n"
      ],
      "metadata": {
        "id": "SztV8aXnyWel"
      },
      "execution_count": null,
      "outputs": []
    }
  ]
}
