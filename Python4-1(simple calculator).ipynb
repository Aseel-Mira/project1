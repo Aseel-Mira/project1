{
  "nbformat": 4,
  "nbformat_minor": 0,
  "metadata": {
    "colab": {
      "provenance": [],
      "toc_visible": true,
      "authorship_tag": "ABX9TyMr0NFzZnSey7vO9XoHpLvq",
      "include_colab_link": true
    },
    "kernelspec": {
      "name": "python3",
      "display_name": "Python 3"
    },
    "language_info": {
      "name": "python"
    }
  },
  "cells": [
    {
      "cell_type": "markdown",
      "metadata": {
        "id": "view-in-github",
        "colab_type": "text"
      },
      "source": [
        "<a href=\"https://colab.research.google.com/github/Aseel-Mira/project1/blob/main/Python(simple%20calculator).ipynb\" target=\"_parent\"><img src=\"https://colab.research.google.com/assets/colab-badge.svg\" alt=\"Open In Colab\"/></a>"
      ]
    },
    {
      "cell_type": "markdown",
      "source": [
        "## project 1 (4th week)"
      ],
      "metadata": {
        "id": "s4SyE0PJq-M2"
      }
    },
    {
      "cell_type": "markdown",
      "source": [
        "**Build and program a simple calculator**"
      ],
      "metadata": {
        "id": "ZRFc84Umvrbi"
      }
    },
    {
      "cell_type": "code",
      "execution_count": 11,
      "metadata": {
        "colab": {
          "base_uri": "https://localhost:8080/"
        },
        "id": "XO3lH5ywq8I7",
        "outputId": "6fe15824-ecc0-47dc-f67d-f8b5bf9cacaa"
      },
      "outputs": [
        {
          "output_type": "stream",
          "name": "stdout",
          "text": [
            "Enter First Number: 5\n",
            "Enter Second Number: 5\n",
            "Enter The Operation: /\n",
            "Sorry We Can't Solve it\n"
          ]
        }
      ],
      "source": [
        "number1 = int(input('Enter First Number: '))\n",
        "number2 = int(input('Enter Second Number: '))\n",
        "operation = input('Enter The Operation: ')\n",
        "\n",
        "if operation == '+':\n",
        "  print(number1 + number2)\n",
        "elif operation == '-':\n",
        "  print(number1 - number2)\n",
        "elif operation == '*':\n",
        "  print(number1 * number2)\n",
        "else:\n",
        "  print(\"Sorry We Can't Solve it\")"
      ]
    },
    {
      "cell_type": "markdown",
      "source": [
        "1- First, we write the variable names inside it (input) so that the user can type the input.\n",
        "\n",
        "2- Then the values ​​must be converted from str to int for the operations to work properly.\n",
        "\n",
        "3- We need to write the probabilities that can occur with if, elif, else.\n"
      ],
      "metadata": {
        "id": "uJUatPEQwVWK"
      }
    }
  ]
}
